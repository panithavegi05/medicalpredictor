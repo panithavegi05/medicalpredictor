https://colab.research.google.com/drive/1LWVGBh_sWXI49BUgyNHnzz0n8UUZVTpO#scrollTo=FGMxBkcYdC27&line=2&uniqifier=1
